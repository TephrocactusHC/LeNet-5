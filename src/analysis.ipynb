{
 "cells": [
  {
   "cell_type": "code",
   "execution_count": 1,
   "outputs": [],
   "source": [
    "from lenet import LeNet5\n",
    "from loss import *\n",
    "from utils import *\n",
    "# 以下调用sklearn的接口用于结果分析和展示\n",
    "from sklearn.metrics import classification_report,confusion_matrix,ConfusionMatrixDisplay\n",
    "import matplotlib.pyplot as plt"
   ],
   "metadata": {
    "collapsed": false,
    "pycharm": {
     "name": "#%%\n"
    }
   }
  },
  {
   "cell_type": "code",
   "execution_count": 2,
   "outputs": [],
   "source": [
    "X,X_test,y,y_test=handle()"
   ],
   "metadata": {
    "collapsed": false,
    "pycharm": {
     "name": "#%%\n"
    }
   }
  },
  {
   "cell_type": "code",
   "execution_count": 3,
   "outputs": [
    {
     "name": "stdout",
     "output_type": "stream",
     "text": [
      "(60000, 32, 32, 1)\n",
      "(10000, 32, 32, 1)\n",
      "(60000,)\n",
      "(10000,)\n"
     ]
    }
   ],
   "source": [
    "print(X.shape)\n",
    "print(X_test.shape)\n",
    "print(y.shape)\n",
    "print(y_test.shape)"
   ],
   "metadata": {
    "collapsed": false,
    "pycharm": {
     "name": "#%%\n"
    }
   }
  },
  {
   "cell_type": "code",
   "execution_count": 4,
   "outputs": [
    {
     "name": "stdout",
     "output_type": "stream",
     "text": [
      "Model loaded successfully!\n"
     ]
    }
   ],
   "source": [
    "model = LeNet5()\n",
    "model.compile_adam()\n",
    "model.load_weights(\"model.pickle\")"
   ],
   "metadata": {
    "collapsed": false,
    "pycharm": {
     "name": "#%%\n"
    }
   }
  },
  {
   "cell_type": "code",
   "execution_count": 5,
   "outputs": [
    {
     "name": "stderr",
     "output_type": "stream",
     "text": [
      "100%|██████████| 20/20 [00:02<00:00,  7.11it/s]\n"
     ]
    },
    {
     "data": {
      "text/plain": "0.9904641544117647"
     },
     "execution_count": 5,
     "metadata": {},
     "output_type": "execute_result"
    }
   ],
   "source": [
    "acc=accuracy(model, X_test, y_test)\n",
    "acc"
   ],
   "metadata": {
    "collapsed": false,
    "pycharm": {
     "name": "#%%\n"
    }
   }
  },
  {
   "cell_type": "code",
   "execution_count": 6,
   "outputs": [
    {
     "name": "stderr",
     "output_type": "stream",
     "text": [
      "100%|██████████| 20/20 [00:02<00:00,  6.88it/s]\n"
     ]
    }
   ],
   "source": [
    "pred = predictions(model, X_test)"
   ],
   "metadata": {
    "collapsed": false,
    "pycharm": {
     "name": "#%%\n"
    }
   }
  },
  {
   "cell_type": "code",
   "execution_count": 7,
   "outputs": [
    {
     "data": {
      "text/plain": "[7,\n 2,\n 1,\n 0,\n 4,\n 1,\n 4,\n 9,\n 5,\n 9,\n 0,\n 6,\n 9,\n 0,\n 1,\n 5,\n 9,\n 7,\n 6,\n 4,\n 9,\n 6,\n 6,\n 5,\n 4,\n 0,\n 7,\n 4,\n 0,\n 1,\n 3,\n 1,\n 3,\n 4,\n 7,\n 2,\n 7,\n 1,\n 2,\n 1,\n 1,\n 7,\n 4,\n 2,\n 3,\n 5,\n 1,\n 2,\n 4,\n 4,\n 6,\n 3,\n 5,\n 5,\n 6,\n 0,\n 4,\n 1,\n 9,\n 5,\n 7,\n 8,\n 9,\n 3,\n 7,\n 4,\n 6,\n 4,\n 3,\n 0,\n 7,\n 0,\n 2,\n 9,\n 1,\n 7,\n 3,\n 2,\n 9,\n 7,\n 7,\n 6,\n 2,\n 7,\n 8,\n 4,\n 7,\n 3,\n 6,\n 1,\n 3,\n 6,\n 9,\n 3,\n 1,\n 4,\n 1,\n 7,\n 6,\n 9,\n 6,\n 0,\n 5,\n 4,\n 9,\n 9,\n 2,\n 1,\n 9,\n 4,\n 8,\n 7,\n 3,\n 9,\n 7,\n 8,\n 4,\n 4,\n 9,\n 2,\n 5,\n 4,\n 7,\n 6,\n 7,\n 9,\n 0,\n 5,\n 8,\n 5,\n 6,\n 6,\n 5,\n 7,\n 8,\n 1,\n 0,\n 1,\n 6,\n 4,\n 6,\n 7,\n 3,\n 1,\n 7,\n 1,\n 8,\n 2,\n 0,\n 2,\n 9,\n 9,\n 5,\n 5,\n 1,\n 5,\n 6,\n 0,\n 3,\n 4,\n 4,\n 6,\n 5,\n 4,\n 6,\n 5,\n 4,\n 5,\n 1,\n 4,\n 4,\n 7,\n 2,\n 3,\n 2,\n 7,\n 1,\n 8,\n 1,\n 8,\n 1,\n 8,\n 5,\n 0,\n 8,\n 9,\n 2,\n 5,\n 0,\n 1,\n 1,\n 1,\n 0,\n 9,\n 0,\n 3,\n 1,\n 6,\n 4,\n 2,\n 3,\n 6,\n 1,\n 1,\n 1,\n 3,\n 9,\n 5,\n 2,\n 9,\n 4,\n 5,\n 9,\n 3,\n 9,\n 0,\n 3,\n 6,\n 5,\n 5,\n 7,\n 2,\n 2,\n 7,\n 1,\n 2,\n 8,\n 4,\n 1,\n 7,\n 3,\n 3,\n 8,\n 8,\n 7,\n 9,\n 2,\n 2,\n 4,\n 1,\n 5,\n 9,\n 8,\n 7,\n 2,\n 3,\n 0,\n 4,\n 4,\n 2,\n 4,\n 1,\n 9,\n 5,\n 7,\n 7,\n 2,\n 8,\n 2,\n 6,\n 8,\n 5,\n 7,\n 7,\n 9,\n 1,\n 8,\n 1,\n 8,\n 0,\n 3,\n 0,\n 1,\n 9,\n 9,\n 4,\n 1,\n 8,\n 2,\n 1,\n 2,\n 9,\n 7,\n 5,\n 9,\n 2,\n 6,\n 4,\n 1,\n 5,\n 8,\n 2,\n 9,\n 2,\n 0,\n 4,\n 0,\n 0,\n 2,\n 8,\n 4,\n 7,\n 1,\n 2,\n 4,\n 0,\n 2,\n 7,\n 4,\n 3,\n 3,\n 0,\n 0,\n 3,\n 1,\n 9,\n 6,\n 5,\n 2,\n 5,\n 9,\n 2,\n 9,\n 3,\n 7,\n 4,\n 2,\n 0,\n 7,\n 1,\n 1,\n 2,\n 1,\n 5,\n 3,\n 3,\n 9,\n 7,\n 8,\n 6,\n 5,\n 6,\n 1,\n 3,\n 8,\n 1,\n 0,\n 5,\n 1,\n 3,\n 1,\n 5,\n 5,\n 6,\n 1,\n 8,\n 5,\n 1,\n 7,\n 8,\n 4,\n 6,\n 2,\n 2,\n 5,\n 0,\n 6,\n 5,\n 6,\n 3,\n 7,\n 2,\n 0,\n 8,\n 8,\n 5,\n 4,\n 1,\n 1,\n 4,\n 0,\n 3,\n 3,\n 7,\n 6,\n 1,\n 6,\n 2,\n 1,\n 9,\n 2,\n 8,\n 6,\n 1,\n 9,\n 5,\n 2,\n 5,\n 4,\n 4,\n 2,\n 8,\n 3,\n 8,\n 2,\n 4,\n 5,\n 0,\n 3,\n 1,\n 7,\n 7,\n 3,\n 7,\n 9,\n 7,\n 1,\n 9,\n 2,\n 1,\n 4,\n 2,\n 9,\n 2,\n 0,\n 4,\n 9,\n 1,\n 4,\n 8,\n 1,\n 8,\n 4,\n 5,\n 9,\n 8,\n 8,\n 3,\n 7,\n 6,\n 0,\n 0,\n 3,\n 0,\n 2,\n 0,\n 6,\n 4,\n 9,\n 5,\n 3,\n 3,\n 2,\n 3,\n 9,\n 1,\n 2,\n 6,\n 8,\n 0,\n 5,\n 6,\n 6,\n 6,\n 3,\n 8,\n 8,\n 2,\n 7,\n 5,\n 8,\n 9,\n 6,\n 1,\n 8,\n 4,\n 1,\n 2,\n 5,\n 9,\n 1,\n 9,\n 7,\n 5,\n 4,\n 0,\n 8,\n 9,\n 9,\n 1,\n 0,\n 5,\n 2,\n 3,\n 7,\n 8,\n 9,\n 4,\n 0,\n 6,\n 3,\n 9,\n 5,\n 2,\n 1,\n 3,\n 1,\n 3,\n 6,\n 5,\n 7,\n 4,\n 2,\n 2,\n 6,\n 3,\n 2,\n 6,\n 5,\n 4,\n 8,\n 9,\n 7,\n 1,\n 3,\n 0,\n 3,\n 8,\n 3,\n 1,\n 9,\n 3,\n 4,\n 4,\n 6,\n 4,\n 2,\n 1,\n 8,\n 2,\n 5,\n 4,\n 8,\n 8,\n 4,\n 0,\n 0,\n 2,\n 3,\n 2,\n 7,\n 7,\n 0,\n 8,\n 7,\n 4,\n 4,\n 7,\n 9,\n 6,\n 9,\n 0,\n 9,\n 8,\n 0,\n 4,\n 6,\n 0,\n 6,\n 3,\n 5,\n 4,\n 8,\n 3,\n 3,\n 9,\n 3,\n 3,\n 3,\n 7,\n 8,\n 0,\n 8,\n 2,\n 1,\n 7,\n 0,\n 6,\n 5,\n 4,\n 3,\n 8,\n 0,\n 9,\n 6,\n 3,\n 8,\n 0,\n 9,\n 9,\n 6,\n 8,\n 6,\n 8,\n 5,\n 7,\n 8,\n 6,\n 0,\n 2,\n 4,\n 0,\n 2,\n 2,\n 3,\n 1,\n 9,\n 7,\n 5,\n 1,\n 0,\n 8,\n 4,\n 6,\n 2,\n 6,\n 7,\n 9,\n 3,\n 2,\n 9,\n 8,\n 2,\n 2,\n 9,\n 2,\n 7,\n 3,\n 5,\n 9,\n 1,\n 8,\n 0,\n 2,\n 0,\n 5,\n 4,\n 1,\n 3,\n 7,\n 6,\n 7,\n 1,\n 2,\n 5,\n 8,\n 0,\n 3,\n 7,\n 1,\n 4,\n 0,\n 9,\n 1,\n 8,\n 6,\n 7,\n 7,\n 4,\n 3,\n 4,\n 9,\n 1,\n 9,\n 3,\n 1,\n 7,\n 3,\n 9,\n 7,\n 6,\n 9,\n 1,\n 3,\n 7,\n 8,\n 3,\n 3,\n 6,\n 7,\n 2,\n 8,\n 5,\n 8,\n 5,\n 1,\n 1,\n 4,\n 4,\n 3,\n 1,\n 0,\n 7,\n 7,\n 0,\n 7,\n 9,\n 4,\n 4,\n 8,\n 5,\n 5,\n 4,\n 0,\n 8,\n 2,\n 1,\n 0,\n 8,\n 4,\n 5,\n 0,\n 4,\n 0,\n 6,\n 1,\n 4,\n 3,\n 2,\n 6,\n 7,\n 2,\n 6,\n 9,\n 3,\n 1,\n 4,\n 6,\n 2,\n 5,\n 4,\n 2,\n 0,\n 6,\n 2,\n 1,\n 7,\n 3,\n 4,\n 1,\n 0,\n 5,\n 4,\n 3,\n 1,\n 1,\n 7,\n 4,\n 9,\n 9,\n 4,\n 8,\n 4,\n 0,\n 2,\n 4,\n 5,\n 1,\n 1,\n 6,\n 4,\n 7,\n 1,\n 9,\n 4,\n 2,\n 4,\n 1,\n 5,\n 5,\n 3,\n 8,\n 3,\n 1,\n 4,\n 5,\n 6,\n 8,\n 9,\n 4,\n 1,\n 5,\n 3,\n 8,\n 0,\n 3,\n 2,\n 5,\n 1,\n 2,\n 8,\n 3,\n 4,\n 4,\n 0,\n 8,\n 8,\n 3,\n 3,\n 1,\n 7,\n 3,\n 5,\n 8,\n 6,\n 3,\n 2,\n 6,\n 1,\n 3,\n 6,\n 0,\n 7,\n 2,\n 1,\n 7,\n 1,\n 4,\n 2,\n 4,\n 2,\n 1,\n 7,\n 9,\n 6,\n 1,\n 1,\n 2,\n 4,\n 8,\n 1,\n 7,\n 7,\n 4,\n 8,\n 0,\n 7,\n 3,\n 1,\n 3,\n 1,\n 0,\n 7,\n 7,\n 0,\n 3,\n 5,\n 5,\n 2,\n 7,\n 6,\n 6,\n 9,\n 2,\n 8,\n 3,\n 5,\n 2,\n 2,\n 5,\n 6,\n 0,\n 8,\n 2,\n 9,\n 2,\n 8,\n 8,\n 8,\n 8,\n 7,\n 4,\n 9,\n 3,\n 0,\n 6,\n 6,\n 3,\n 2,\n 1,\n 3,\n 2,\n 2,\n 9,\n 3,\n 0,\n 0,\n 5,\n 7,\n 8,\n 1,\n 4,\n 4,\n 6,\n 0,\n 2,\n 9,\n 1,\n 4,\n 7,\n 4,\n 7,\n 3,\n 9,\n 8,\n 8,\n 4,\n 7,\n 1,\n 2,\n 1,\n 2,\n 2,\n 3,\n 2,\n 3,\n 2,\n 3,\n 9,\n 1,\n 7,\n 4,\n 0,\n 3,\n 5,\n 5,\n 8,\n 6,\n 3,\n 2,\n 6,\n 7,\n 6,\n 6,\n 3,\n 2,\n 7,\n 9,\n 1,\n 1,\n 7,\n 6,\n 6,\n 4,\n 9,\n 5,\n 2,\n 3,\n 3,\n 4,\n 7,\n 8,\n 9,\n 1,\n 1,\n 6,\n 9,\n 1,\n 4,\n 4,\n 5,\n 4,\n 0,\n 6,\n 2,\n 2,\n 3,\n 1,\n 5,\n 1,\n 2,\n 0,\n 3,\n 8,\n 1,\n 2,\n 6,\n 7,\n 1,\n 6,\n 2,\n 3,\n 9,\n 0,\n 1,\n 2,\n 2,\n 0,\n 8,\n 9,\n ...]"
     },
     "execution_count": 7,
     "metadata": {},
     "output_type": "execute_result"
    }
   ],
   "source": [
    "pred"
   ],
   "metadata": {
    "collapsed": false,
    "pycharm": {
     "name": "#%%\n"
    }
   }
  },
  {
   "cell_type": "code",
   "execution_count": 8,
   "outputs": [
    {
     "name": "stdout",
     "output_type": "stream",
     "text": [
      "              precision    recall  f1-score   support\n",
      "\n",
      "           0       0.99      0.99      0.99       984\n",
      "           1       0.99      0.99      0.99      1135\n",
      "           2       0.99      0.99      0.99      1034\n",
      "           3       0.99      0.99      0.99      1010\n",
      "           4       0.99      0.99      0.99       982\n",
      "           5       0.98      0.99      0.99       882\n",
      "           6       0.99      0.98      0.98       966\n",
      "           7       0.99      0.99      0.99      1022\n",
      "           8       1.00      0.98      0.99       990\n",
      "           9       0.98      0.99      0.99       995\n",
      "\n",
      "    accuracy                           0.99     10000\n",
      "   macro avg       0.99      0.99      0.99     10000\n",
      "weighted avg       0.99      0.99      0.99     10000\n",
      "\n"
     ]
    }
   ],
   "source": [
    "print(classification_report(pred,y_test,target_names=['0','1','2','3','4','5','6','7','8','9']))"
   ],
   "metadata": {
    "collapsed": false,
    "pycharm": {
     "name": "#%%\n"
    }
   }
  },
  {
   "cell_type": "code",
   "execution_count": 9,
   "outputs": [
    {
     "data": {
      "text/plain": "<Figure size 432x288 with 2 Axes>",
      "image/png": "[encoded data removed]"
     },
     "metadata": {
      "needs_background": "light"
     },
     "output_type": "display_data"
    }
   ],
   "source": [
    "cm = confusion_matrix(y_test, pred)\n",
    "disp = ConfusionMatrixDisplay(confusion_matrix=cm, display_labels=['0', '1', '2', '3', '4', '5', '6', '7', '8', '9'])\n",
    "disp.plot()\n",
    "plt.show()"
   ],
   "metadata": {
    "collapsed": false,
    "pycharm": {
     "name": "#%%\n"
    }
   }
  },
  {
   "cell_type": "code",
   "execution_count": null,
   "outputs": [],
   "source": [],
   "metadata": {
    "collapsed": false,
    "pycharm": {
     "name": "#%%\n"
    }
   }
  }
 ],
 "metadata": {
  "kernelspec": {
   "display_name": "Python 3 (ipykernel)",
   "language": "python",
   "name": "python3"
  },
  "language_info": {
   "codemirror_mode": {
    "name": "ipython",
    "version": 3
   },
   "file_extension": ".py",
   "mimetype": "text/x-python",
   "name": "python",
   "nbconvert_exporter": "python",
   "pygments_lexer": "ipython3",
   "version": "3.8.12"
  }
 },
 "nbformat": 4,
 "nbformat_minor": 5
}